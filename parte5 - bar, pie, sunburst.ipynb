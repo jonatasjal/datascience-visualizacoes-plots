{
 "cells": [
  {
   "attachments": {},
   "cell_type": "markdown",
   "id": "015ae779",
   "metadata": {},
   "source": [
    "> PROBLEMA DE NEGÓCIO:\n",
    "- Aqui o objetivo é analisar dados sobre os games disponíveis na Google PlayStore\n",
    "- **Dataset**: dataset4"
   ]
  },
  {
   "attachments": {},
   "cell_type": "markdown",
   "id": "cbf67fbc",
   "metadata": {},
   "source": [
    "## Instalando e Carregando os Pacotes"
   ]
  },
  {
   "cell_type": "code",
   "execution_count": 3,
   "id": "equal-jimmy",
   "metadata": {
    "execution": {
     "iopub.execute_input": "2021-04-22T23:03:45.993215Z",
     "iopub.status.busy": "2021-04-22T23:03:45.992281Z",
     "iopub.status.idle": "2021-04-22T23:03:46.849966Z",
     "shell.execute_reply": "2021-04-22T23:03:46.849439Z"
    },
    "papermill": {
     "duration": 0.880283,
     "end_time": "2021-04-22T23:03:46.850136",
     "exception": false,
     "start_time": "2021-04-22T23:03:45.969853",
     "status": "completed"
    },
    "tags": []
   },
   "outputs": [],
   "source": [
    "# Imports\n",
    "import numpy as np \n",
    "import pandas as pd\n",
    "import matplotlib.pyplot as plt \n",
    "import seaborn as sns\n",
    "import plotly.express as px\n",
    "%matplotlib inline\n",
    "sns.set()"
   ]
  },
  {
   "attachments": {},
   "cell_type": "markdown",
   "id": "0f21a3f8",
   "metadata": {},
   "source": [
    "> Caso não tenha  biblioteca do plotly instada, usa-se: !pip install plotly"
   ]
  },
  {
   "cell_type": "code",
   "execution_count": 4,
   "id": "american-sense",
   "metadata": {
    "execution": {
     "iopub.execute_input": "2021-04-22T23:03:46.880422Z",
     "iopub.status.busy": "2021-04-22T23:03:46.879740Z",
     "iopub.status.idle": "2021-04-22T23:03:47.061698Z",
     "shell.execute_reply": "2021-04-22T23:03:47.062195Z"
    },
    "papermill": {
     "duration": 0.204771,
     "end_time": "2021-04-22T23:03:47.062356",
     "exception": false,
     "start_time": "2021-04-22T23:03:46.857585",
     "status": "completed"
    },
    "tags": []
   },
   "outputs": [],
   "source": [
    "# Carregando dados\n",
    "dados = pd.read_csv(\"dados/dataset4.csv\")"
   ]
  },
  {
   "cell_type": "code",
   "execution_count": 5,
   "id": "f8f93361",
   "metadata": {},
   "outputs": [
    {
     "data": {
      "text/plain": [
       "(1730, 15)"
      ]
     },
     "execution_count": 5,
     "metadata": {},
     "output_type": "execute_result"
    }
   ],
   "source": [
    "dados.shape"
   ]
  },
  {
   "cell_type": "code",
   "execution_count": 6,
   "id": "fed6199b",
   "metadata": {},
   "outputs": [
    {
     "data": {
      "text/html": [
       "<div>\n",
       "<style scoped>\n",
       "    .dataframe tbody tr th:only-of-type {\n",
       "        vertical-align: middle;\n",
       "    }\n",
       "\n",
       "    .dataframe tbody tr th {\n",
       "        vertical-align: top;\n",
       "    }\n",
       "\n",
       "    .dataframe thead th {\n",
       "        text-align: right;\n",
       "    }\n",
       "</style>\n",
       "<table border=\"1\" class=\"dataframe\">\n",
       "  <thead>\n",
       "    <tr style=\"text-align: right;\">\n",
       "      <th></th>\n",
       "      <th>rank</th>\n",
       "      <th>title</th>\n",
       "      <th>total ratings</th>\n",
       "      <th>installs</th>\n",
       "      <th>average rating</th>\n",
       "      <th>growth (30 days)</th>\n",
       "      <th>growth (60 days)</th>\n",
       "      <th>price</th>\n",
       "      <th>category</th>\n",
       "      <th>5 star ratings</th>\n",
       "      <th>4 star ratings</th>\n",
       "      <th>3 star ratings</th>\n",
       "      <th>2 star ratings</th>\n",
       "      <th>1 star ratings</th>\n",
       "      <th>paid</th>\n",
       "    </tr>\n",
       "  </thead>\n",
       "  <tbody>\n",
       "    <tr>\n",
       "      <th>0</th>\n",
       "      <td>1</td>\n",
       "      <td>Garena Free Fire - The Cobra</td>\n",
       "      <td>80678661</td>\n",
       "      <td>500.0 M</td>\n",
       "      <td>4.33</td>\n",
       "      <td>2.9</td>\n",
       "      <td>7.9</td>\n",
       "      <td>0.0</td>\n",
       "      <td>GAME ACTION</td>\n",
       "      <td>61935712</td>\n",
       "      <td>4478738</td>\n",
       "      <td>2795172</td>\n",
       "      <td>1814999</td>\n",
       "      <td>9654037</td>\n",
       "      <td>False</td>\n",
       "    </tr>\n",
       "    <tr>\n",
       "      <th>1</th>\n",
       "      <td>2</td>\n",
       "      <td>PUBG MOBILE: Graffiti Prank</td>\n",
       "      <td>35971961</td>\n",
       "      <td>100.0 M</td>\n",
       "      <td>4.24</td>\n",
       "      <td>2.0</td>\n",
       "      <td>3.1</td>\n",
       "      <td>0.0</td>\n",
       "      <td>GAME ACTION</td>\n",
       "      <td>26670566</td>\n",
       "      <td>2109631</td>\n",
       "      <td>1352610</td>\n",
       "      <td>893674</td>\n",
       "      <td>4945478</td>\n",
       "      <td>False</td>\n",
       "    </tr>\n",
       "    <tr>\n",
       "      <th>2</th>\n",
       "      <td>3</td>\n",
       "      <td>Mobile Legends: Bang Bang</td>\n",
       "      <td>25836869</td>\n",
       "      <td>100.0 M</td>\n",
       "      <td>4.08</td>\n",
       "      <td>1.6</td>\n",
       "      <td>3.3</td>\n",
       "      <td>0.0</td>\n",
       "      <td>GAME ACTION</td>\n",
       "      <td>17850942</td>\n",
       "      <td>1796761</td>\n",
       "      <td>1066095</td>\n",
       "      <td>725429</td>\n",
       "      <td>4397640</td>\n",
       "      <td>False</td>\n",
       "    </tr>\n",
       "    <tr>\n",
       "      <th>3</th>\n",
       "      <td>4</td>\n",
       "      <td>Brawl Stars</td>\n",
       "      <td>17181659</td>\n",
       "      <td>100.0 M</td>\n",
       "      <td>4.27</td>\n",
       "      <td>4.1</td>\n",
       "      <td>6.6</td>\n",
       "      <td>0.0</td>\n",
       "      <td>GAME ACTION</td>\n",
       "      <td>12493668</td>\n",
       "      <td>1474319</td>\n",
       "      <td>741410</td>\n",
       "      <td>383478</td>\n",
       "      <td>2088781</td>\n",
       "      <td>False</td>\n",
       "    </tr>\n",
       "    <tr>\n",
       "      <th>4</th>\n",
       "      <td>5</td>\n",
       "      <td>Sniper 3D: Fun Free Online FPS Shooting Game</td>\n",
       "      <td>14237554</td>\n",
       "      <td>100.0 M</td>\n",
       "      <td>4.33</td>\n",
       "      <td>0.8</td>\n",
       "      <td>1.8</td>\n",
       "      <td>0.0</td>\n",
       "      <td>GAME ACTION</td>\n",
       "      <td>9657878</td>\n",
       "      <td>2124544</td>\n",
       "      <td>1034025</td>\n",
       "      <td>375159</td>\n",
       "      <td>1045945</td>\n",
       "      <td>False</td>\n",
       "    </tr>\n",
       "  </tbody>\n",
       "</table>\n",
       "</div>"
      ],
      "text/plain": [
       "   rank                                         title  total ratings installs  \\\n",
       "0     1                  Garena Free Fire - The Cobra       80678661  500.0 M   \n",
       "1     2                   PUBG MOBILE: Graffiti Prank       35971961  100.0 M   \n",
       "2     3                     Mobile Legends: Bang Bang       25836869  100.0 M   \n",
       "3     4                                   Brawl Stars       17181659  100.0 M   \n",
       "4     5  Sniper 3D: Fun Free Online FPS Shooting Game       14237554  100.0 M   \n",
       "\n",
       "   average rating  growth (30 days)  growth (60 days)  price     category  \\\n",
       "0            4.33               2.9               7.9    0.0  GAME ACTION   \n",
       "1            4.24               2.0               3.1    0.0  GAME ACTION   \n",
       "2            4.08               1.6               3.3    0.0  GAME ACTION   \n",
       "3            4.27               4.1               6.6    0.0  GAME ACTION   \n",
       "4            4.33               0.8               1.8    0.0  GAME ACTION   \n",
       "\n",
       "   5 star ratings  4 star ratings  3 star ratings  2 star ratings  \\\n",
       "0        61935712         4478738         2795172         1814999   \n",
       "1        26670566         2109631         1352610          893674   \n",
       "2        17850942         1796761         1066095          725429   \n",
       "3        12493668         1474319          741410          383478   \n",
       "4         9657878         2124544         1034025          375159   \n",
       "\n",
       "   1 star ratings   paid  \n",
       "0         9654037  False  \n",
       "1         4945478  False  \n",
       "2         4397640  False  \n",
       "3         2088781  False  \n",
       "4         1045945  False  "
      ]
     },
     "execution_count": 6,
     "metadata": {},
     "output_type": "execute_result"
    }
   ],
   "source": [
    "dados.head()"
   ]
  },
  {
   "cell_type": "code",
   "execution_count": 7,
   "id": "difficult-remove",
   "metadata": {
    "execution": {
     "iopub.execute_input": "2021-04-22T23:03:47.087685Z",
     "iopub.status.busy": "2021-04-22T23:03:47.087038Z",
     "iopub.status.idle": "2021-04-22T23:03:47.110470Z",
     "shell.execute_reply": "2021-04-22T23:03:47.109751Z"
    },
    "papermill": {
     "duration": 0.037118,
     "end_time": "2021-04-22T23:03:47.110630",
     "exception": false,
     "start_time": "2021-04-22T23:03:47.073512",
     "status": "completed"
    },
    "tags": []
   },
   "outputs": [
    {
     "name": "stdout",
     "output_type": "stream",
     "text": [
      "<class 'pandas.core.frame.DataFrame'>\n",
      "RangeIndex: 1730 entries, 0 to 1729\n",
      "Data columns (total 15 columns):\n",
      " #   Column            Non-Null Count  Dtype  \n",
      "---  ------            --------------  -----  \n",
      " 0   rank              1730 non-null   int64  \n",
      " 1   title             1730 non-null   object \n",
      " 2   total ratings     1730 non-null   int64  \n",
      " 3   installs          1730 non-null   object \n",
      " 4   average rating    1730 non-null   float64\n",
      " 5   growth (30 days)  1730 non-null   float64\n",
      " 6   growth (60 days)  1730 non-null   float64\n",
      " 7   price             1730 non-null   float64\n",
      " 8   category          1730 non-null   object \n",
      " 9   5 star ratings    1730 non-null   int64  \n",
      " 10  4 star ratings    1730 non-null   int64  \n",
      " 11  3 star ratings    1730 non-null   int64  \n",
      " 12  2 star ratings    1730 non-null   int64  \n",
      " 13  1 star ratings    1730 non-null   int64  \n",
      " 14  paid              1730 non-null   bool   \n",
      "dtypes: bool(1), float64(4), int64(7), object(3)\n",
      "memory usage: 191.0+ KB\n"
     ]
    }
   ],
   "source": [
    "dados.info()"
   ]
  },
  {
   "attachments": {},
   "cell_type": "markdown",
   "id": "2da24a86",
   "metadata": {},
   "source": [
    "**Visualizando o número de instalações** (como faremos algumas transformações com uma determinada variável, faremos uma cópia do dataset original)"
   ]
  },
  {
   "cell_type": "code",
   "execution_count": 8,
   "id": "49459ab6",
   "metadata": {},
   "outputs": [],
   "source": [
    "dados_copy = dados.copy()"
   ]
  },
  {
   "cell_type": "code",
   "execution_count": 9,
   "id": "ca33a463",
   "metadata": {},
   "outputs": [
    {
     "data": {
      "text/plain": [
       "array(['500.0 M', '100.0 M', '50.0 M', '10.0 M', '5.0 M', '1.0 M',\n",
       "       '1000.0 M', '500.0 k', '100.0 k'], dtype=object)"
      ]
     },
     "execution_count": 9,
     "metadata": {},
     "output_type": "execute_result"
    }
   ],
   "source": [
    "dados_copy['installs'].unique()"
   ]
  },
  {
   "attachments": {},
   "cell_type": "markdown",
   "id": "e35cb1e2",
   "metadata": {},
   "source": [
    "> Aqui vamos criar um dicionário para converter o número de instalações que é categórica, em um número inteiro para utilizar na análise"
   ]
  },
  {
   "cell_type": "code",
   "execution_count": 10,
   "id": "41a4491b",
   "metadata": {},
   "outputs": [],
   "source": [
    "install_range = {'500.0 M': 500000000, \n",
    "                 '100.0 M': 100000000, \n",
    "                 '50.0 M': 50000000, \n",
    "                 '10.0 M': 10000000, \n",
    "                 '5.0 M': 5000000, \n",
    "                 '1.0 M': 1000000,\n",
    "                 '1000.0 M': 1000000000 , \n",
    "                 '500.0 k': 500000, \n",
    "                 '100.0 k': 1000000\n",
    "                 }"
   ]
  },
  {
   "cell_type": "code",
   "execution_count": 11,
   "id": "e468f422",
   "metadata": {},
   "outputs": [],
   "source": [
    "# Inserindo o número de instalações em uma coluna criada no dataframe\n",
    "dados_copy['Installs_num'] = dados_copy['installs'].map(install_range)"
   ]
  },
  {
   "cell_type": "code",
   "execution_count": 12,
   "id": "92be7241",
   "metadata": {},
   "outputs": [
    {
     "data": {
      "text/html": [
       "<div>\n",
       "<style scoped>\n",
       "    .dataframe tbody tr th:only-of-type {\n",
       "        vertical-align: middle;\n",
       "    }\n",
       "\n",
       "    .dataframe tbody tr th {\n",
       "        vertical-align: top;\n",
       "    }\n",
       "\n",
       "    .dataframe thead th {\n",
       "        text-align: right;\n",
       "    }\n",
       "</style>\n",
       "<table border=\"1\" class=\"dataframe\">\n",
       "  <thead>\n",
       "    <tr style=\"text-align: right;\">\n",
       "      <th></th>\n",
       "      <th>rank</th>\n",
       "      <th>title</th>\n",
       "      <th>total ratings</th>\n",
       "      <th>installs</th>\n",
       "      <th>average rating</th>\n",
       "      <th>growth (30 days)</th>\n",
       "      <th>growth (60 days)</th>\n",
       "      <th>price</th>\n",
       "      <th>category</th>\n",
       "      <th>5 star ratings</th>\n",
       "      <th>4 star ratings</th>\n",
       "      <th>3 star ratings</th>\n",
       "      <th>2 star ratings</th>\n",
       "      <th>1 star ratings</th>\n",
       "      <th>paid</th>\n",
       "      <th>Installs_num</th>\n",
       "    </tr>\n",
       "  </thead>\n",
       "  <tbody>\n",
       "    <tr>\n",
       "      <th>0</th>\n",
       "      <td>1</td>\n",
       "      <td>Garena Free Fire - The Cobra</td>\n",
       "      <td>80678661</td>\n",
       "      <td>500.0 M</td>\n",
       "      <td>4.33</td>\n",
       "      <td>2.9</td>\n",
       "      <td>7.9</td>\n",
       "      <td>0.0</td>\n",
       "      <td>GAME ACTION</td>\n",
       "      <td>61935712</td>\n",
       "      <td>4478738</td>\n",
       "      <td>2795172</td>\n",
       "      <td>1814999</td>\n",
       "      <td>9654037</td>\n",
       "      <td>False</td>\n",
       "      <td>500000000</td>\n",
       "    </tr>\n",
       "    <tr>\n",
       "      <th>1</th>\n",
       "      <td>2</td>\n",
       "      <td>PUBG MOBILE: Graffiti Prank</td>\n",
       "      <td>35971961</td>\n",
       "      <td>100.0 M</td>\n",
       "      <td>4.24</td>\n",
       "      <td>2.0</td>\n",
       "      <td>3.1</td>\n",
       "      <td>0.0</td>\n",
       "      <td>GAME ACTION</td>\n",
       "      <td>26670566</td>\n",
       "      <td>2109631</td>\n",
       "      <td>1352610</td>\n",
       "      <td>893674</td>\n",
       "      <td>4945478</td>\n",
       "      <td>False</td>\n",
       "      <td>100000000</td>\n",
       "    </tr>\n",
       "    <tr>\n",
       "      <th>2</th>\n",
       "      <td>3</td>\n",
       "      <td>Mobile Legends: Bang Bang</td>\n",
       "      <td>25836869</td>\n",
       "      <td>100.0 M</td>\n",
       "      <td>4.08</td>\n",
       "      <td>1.6</td>\n",
       "      <td>3.3</td>\n",
       "      <td>0.0</td>\n",
       "      <td>GAME ACTION</td>\n",
       "      <td>17850942</td>\n",
       "      <td>1796761</td>\n",
       "      <td>1066095</td>\n",
       "      <td>725429</td>\n",
       "      <td>4397640</td>\n",
       "      <td>False</td>\n",
       "      <td>100000000</td>\n",
       "    </tr>\n",
       "    <tr>\n",
       "      <th>3</th>\n",
       "      <td>4</td>\n",
       "      <td>Brawl Stars</td>\n",
       "      <td>17181659</td>\n",
       "      <td>100.0 M</td>\n",
       "      <td>4.27</td>\n",
       "      <td>4.1</td>\n",
       "      <td>6.6</td>\n",
       "      <td>0.0</td>\n",
       "      <td>GAME ACTION</td>\n",
       "      <td>12493668</td>\n",
       "      <td>1474319</td>\n",
       "      <td>741410</td>\n",
       "      <td>383478</td>\n",
       "      <td>2088781</td>\n",
       "      <td>False</td>\n",
       "      <td>100000000</td>\n",
       "    </tr>\n",
       "    <tr>\n",
       "      <th>4</th>\n",
       "      <td>5</td>\n",
       "      <td>Sniper 3D: Fun Free Online FPS Shooting Game</td>\n",
       "      <td>14237554</td>\n",
       "      <td>100.0 M</td>\n",
       "      <td>4.33</td>\n",
       "      <td>0.8</td>\n",
       "      <td>1.8</td>\n",
       "      <td>0.0</td>\n",
       "      <td>GAME ACTION</td>\n",
       "      <td>9657878</td>\n",
       "      <td>2124544</td>\n",
       "      <td>1034025</td>\n",
       "      <td>375159</td>\n",
       "      <td>1045945</td>\n",
       "      <td>False</td>\n",
       "      <td>100000000</td>\n",
       "    </tr>\n",
       "    <tr>\n",
       "      <th>...</th>\n",
       "      <td>...</td>\n",
       "      <td>...</td>\n",
       "      <td>...</td>\n",
       "      <td>...</td>\n",
       "      <td>...</td>\n",
       "      <td>...</td>\n",
       "      <td>...</td>\n",
       "      <td>...</td>\n",
       "      <td>...</td>\n",
       "      <td>...</td>\n",
       "      <td>...</td>\n",
       "      <td>...</td>\n",
       "      <td>...</td>\n",
       "      <td>...</td>\n",
       "      <td>...</td>\n",
       "      <td>...</td>\n",
       "    </tr>\n",
       "    <tr>\n",
       "      <th>1725</th>\n",
       "      <td>96</td>\n",
       "      <td>Piknik Słowo - Word Snack</td>\n",
       "      <td>122845</td>\n",
       "      <td>1.0 M</td>\n",
       "      <td>4.67</td>\n",
       "      <td>0.1</td>\n",
       "      <td>0.3</td>\n",
       "      <td>0.0</td>\n",
       "      <td>GAME WORD</td>\n",
       "      <td>96954</td>\n",
       "      <td>17233</td>\n",
       "      <td>5098</td>\n",
       "      <td>1249</td>\n",
       "      <td>2309</td>\n",
       "      <td>False</td>\n",
       "      <td>1000000</td>\n",
       "    </tr>\n",
       "    <tr>\n",
       "      <th>1726</th>\n",
       "      <td>97</td>\n",
       "      <td>Wordox – Free multiplayer word game</td>\n",
       "      <td>120476</td>\n",
       "      <td>1.0 M</td>\n",
       "      <td>4.21</td>\n",
       "      <td>0.0</td>\n",
       "      <td>0.1</td>\n",
       "      <td>0.0</td>\n",
       "      <td>GAME WORD</td>\n",
       "      <td>74010</td>\n",
       "      <td>21546</td>\n",
       "      <td>10648</td>\n",
       "      <td>4710</td>\n",
       "      <td>9560</td>\n",
       "      <td>False</td>\n",
       "      <td>1000000</td>\n",
       "    </tr>\n",
       "    <tr>\n",
       "      <th>1727</th>\n",
       "      <td>98</td>\n",
       "      <td>4 Fotos 1 Palavra</td>\n",
       "      <td>114852</td>\n",
       "      <td>5.0 M</td>\n",
       "      <td>4.52</td>\n",
       "      <td>0.3</td>\n",
       "      <td>0.6</td>\n",
       "      <td>0.0</td>\n",
       "      <td>GAME WORD</td>\n",
       "      <td>84688</td>\n",
       "      <td>16783</td>\n",
       "      <td>6619</td>\n",
       "      <td>1867</td>\n",
       "      <td>4892</td>\n",
       "      <td>False</td>\n",
       "      <td>5000000</td>\n",
       "    </tr>\n",
       "    <tr>\n",
       "      <th>1728</th>\n",
       "      <td>99</td>\n",
       "      <td>زوايا - لعبة ستحرك زوايا عقلك</td>\n",
       "      <td>110293</td>\n",
       "      <td>1.0 M</td>\n",
       "      <td>4.76</td>\n",
       "      <td>0.8</td>\n",
       "      <td>1.9</td>\n",
       "      <td>0.0</td>\n",
       "      <td>GAME WORD</td>\n",
       "      <td>99168</td>\n",
       "      <td>3528</td>\n",
       "      <td>3258</td>\n",
       "      <td>1059</td>\n",
       "      <td>3278</td>\n",
       "      <td>False</td>\n",
       "      <td>1000000</td>\n",
       "    </tr>\n",
       "    <tr>\n",
       "      <th>1729</th>\n",
       "      <td>100</td>\n",
       "      <td>Word Life - Connect crosswords puzzle</td>\n",
       "      <td>109809</td>\n",
       "      <td>5.0 M</td>\n",
       "      <td>4.38</td>\n",
       "      <td>6.9</td>\n",
       "      <td>14.2</td>\n",
       "      <td>0.0</td>\n",
       "      <td>GAME WORD</td>\n",
       "      <td>70647</td>\n",
       "      <td>22630</td>\n",
       "      <td>8794</td>\n",
       "      <td>2775</td>\n",
       "      <td>4961</td>\n",
       "      <td>False</td>\n",
       "      <td>5000000</td>\n",
       "    </tr>\n",
       "  </tbody>\n",
       "</table>\n",
       "<p>1730 rows × 16 columns</p>\n",
       "</div>"
      ],
      "text/plain": [
       "      rank                                         title  total ratings  \\\n",
       "0        1                  Garena Free Fire - The Cobra       80678661   \n",
       "1        2                   PUBG MOBILE: Graffiti Prank       35971961   \n",
       "2        3                     Mobile Legends: Bang Bang       25836869   \n",
       "3        4                                   Brawl Stars       17181659   \n",
       "4        5  Sniper 3D: Fun Free Online FPS Shooting Game       14237554   \n",
       "...    ...                                           ...            ...   \n",
       "1725    96                     Piknik Słowo - Word Snack         122845   \n",
       "1726    97           Wordox – Free multiplayer word game         120476   \n",
       "1727    98                             4 Fotos 1 Palavra         114852   \n",
       "1728    99                 زوايا - لعبة ستحرك زوايا عقلك         110293   \n",
       "1729   100         Word Life - Connect crosswords puzzle         109809   \n",
       "\n",
       "     installs  average rating  growth (30 days)  growth (60 days)  price  \\\n",
       "0     500.0 M            4.33               2.9               7.9    0.0   \n",
       "1     100.0 M            4.24               2.0               3.1    0.0   \n",
       "2     100.0 M            4.08               1.6               3.3    0.0   \n",
       "3     100.0 M            4.27               4.1               6.6    0.0   \n",
       "4     100.0 M            4.33               0.8               1.8    0.0   \n",
       "...       ...             ...               ...               ...    ...   \n",
       "1725    1.0 M            4.67               0.1               0.3    0.0   \n",
       "1726    1.0 M            4.21               0.0               0.1    0.0   \n",
       "1727    5.0 M            4.52               0.3               0.6    0.0   \n",
       "1728    1.0 M            4.76               0.8               1.9    0.0   \n",
       "1729    5.0 M            4.38               6.9              14.2    0.0   \n",
       "\n",
       "         category  5 star ratings  4 star ratings  3 star ratings  \\\n",
       "0     GAME ACTION        61935712         4478738         2795172   \n",
       "1     GAME ACTION        26670566         2109631         1352610   \n",
       "2     GAME ACTION        17850942         1796761         1066095   \n",
       "3     GAME ACTION        12493668         1474319          741410   \n",
       "4     GAME ACTION         9657878         2124544         1034025   \n",
       "...           ...             ...             ...             ...   \n",
       "1725    GAME WORD           96954           17233            5098   \n",
       "1726    GAME WORD           74010           21546           10648   \n",
       "1727    GAME WORD           84688           16783            6619   \n",
       "1728    GAME WORD           99168            3528            3258   \n",
       "1729    GAME WORD           70647           22630            8794   \n",
       "\n",
       "      2 star ratings  1 star ratings   paid  Installs_num  \n",
       "0            1814999         9654037  False     500000000  \n",
       "1             893674         4945478  False     100000000  \n",
       "2             725429         4397640  False     100000000  \n",
       "3             383478         2088781  False     100000000  \n",
       "4             375159         1045945  False     100000000  \n",
       "...              ...             ...    ...           ...  \n",
       "1725            1249            2309  False       1000000  \n",
       "1726            4710            9560  False       1000000  \n",
       "1727            1867            4892  False       5000000  \n",
       "1728            1059            3278  False       1000000  \n",
       "1729            2775            4961  False       5000000  \n",
       "\n",
       "[1730 rows x 16 columns]"
      ]
     },
     "execution_count": 12,
     "metadata": {},
     "output_type": "execute_result"
    }
   ],
   "source": [
    "dados_copy"
   ]
  },
  {
   "attachments": {},
   "cell_type": "markdown",
   "id": "a3b017d0",
   "metadata": {},
   "source": [
    "> Aqui faremos um agrupamento por categoria"
   ]
  },
  {
   "cell_type": "code",
   "execution_count": 13,
   "id": "04604df9",
   "metadata": {},
   "outputs": [],
   "source": [
    "total_install_cat = dados_copy.groupby('category')['Installs_num'].sum().sort_values(ascending= False)"
   ]
  },
  {
   "cell_type": "code",
   "execution_count": 14,
   "id": "8350deb2",
   "metadata": {},
   "outputs": [
    {
     "data": {
      "text/plain": [
       "category\n",
       "GAME ARCADE          6931000000\n",
       "GAME CASUAL          6847000000\n",
       "GAME ACTION          6650000000\n",
       "GAME RACING          4640000000\n",
       "GAME PUZZLE          3631000000\n",
       "GAME SPORTS          3491000000\n",
       "GAME SIMULATION      2871000000\n",
       "GAME STRATEGY        2392000000\n",
       "GAME BOARD           2038000000\n",
       "GAME ADVENTURE       1888000000\n",
       "GAME EDUCATIONAL     1595500000\n",
       "GAME ROLE PLAYING    1449000000\n",
       "GAME CARD            1401000000\n",
       "GAME WORD            1385000000\n",
       "GAME MUSIC           1286500000\n",
       "GAME CASINO           788500000\n",
       "GAME TRIVIA           705000000\n",
       "Name: Installs_num, dtype: int64"
      ]
     },
     "execution_count": 14,
     "metadata": {},
     "output_type": "execute_result"
    }
   ],
   "source": [
    "total_install_cat"
   ]
  },
  {
   "attachments": {},
   "cell_type": "markdown",
   "id": "fad4cdb2",
   "metadata": {},
   "source": [
    "#### 01 - Gráfico de barras com o total de games e de instalações por categoria"
   ]
  },
  {
   "cell_type": "code",
   "execution_count": 15,
   "id": "4059f4eb",
   "metadata": {},
   "outputs": [
    {
     "data": {
      "image/png": "[encoded data removed]",
      "text/plain": [
       "<Figure size 1400x800 with 1 Axes>"
      ]
     },
     "metadata": {},
     "output_type": "display_data"
    }
   ],
   "source": [
    "plt.figure(figsize= (14, 8))\n",
    "sns.barplot(x = 'Installs_num', y = 'category', data = dados_copy)\n",
    "plt.xlabel('Número de Games x Número de Instalações')\n",
    "plt.ylabel('Categoria')\n",
    "plt.show()"
   ]
  },
  {
   "attachments": {},
   "cell_type": "markdown",
   "id": "0aa43c16",
   "metadata": {},
   "source": [
    "> Nesse gráfico notamos algumas particularidades:\n",
    "- Não usamos paleta de cores, mas o seaborn se encarregou de classificá-las\n",
    "- Usamos o gráfico na horizontal devido ao alto número de barras (categorias)\n",
    "- As barras coloridas são os números de categorias, as linhas são os números de instalações"
   ]
  },
  {
   "attachments": {},
   "cell_type": "markdown",
   "id": "fd34b62e",
   "metadata": {},
   "source": [
    "#### 02 - Pie Chart com o percentual de games por categoria"
   ]
  },
  {
   "cell_type": "code",
   "execution_count": 16,
   "id": "concrete-button",
   "metadata": {
    "execution": {
     "iopub.execute_input": "2021-04-22T23:03:48.165482Z",
     "iopub.status.busy": "2021-04-22T23:03:48.162999Z",
     "iopub.status.idle": "2021-04-22T23:03:48.368226Z",
     "shell.execute_reply": "2021-04-22T23:03:48.367592Z"
    },
    "papermill": {
     "duration": 0.240539,
     "end_time": "2021-04-22T23:03:48.368352",
     "exception": false,
     "start_time": "2021-04-22T23:03:48.127813",
     "status": "completed"
    },
    "tags": []
   },
   "outputs": [
    {
     "data": {
      "image/png": "[encoded data removed]",
      "text/plain": [
       "<Figure size 1400x700 with 1 Axes>"
      ]
     },
     "metadata": {},
     "output_type": "display_data"
    }
   ],
   "source": [
    "plt.figure(figsize = (14,7))\n",
    "cat_labels = dados_copy['category'].value_counts().index\n",
    "plt.pie(dados_copy['category'].value_counts().values, \n",
    "        labels = cat_labels, \n",
    "        autopct = '%1.1f%%', \n",
    "        startangle = 90,  # indica o ângulo de início do gráfico\n",
    "        explode = [0.15, 0.12, 0.1, 0.08, 0.08, 0.08, 0.08, 0.08, 0.08, 0.08, 0.08, 0.08, 0.08, 0.08, 0.08, 0.08, 0.08])\n",
    "plt.show()"
   ]
  },
  {
   "attachments": {},
   "cell_type": "markdown",
   "id": "bdc02917",
   "metadata": {},
   "source": [
    "> O gráfico de pizza que geralmente é controverso, fico mais apresentável com o uso do 'startangle' para diferenciar o alinhamento das fatias e o 'explode' para o tratmento destas"
   ]
  },
  {
   "attachments": {},
   "cell_type": "markdown",
   "id": "3ed02b44",
   "metadata": {},
   "source": [
    "#### 03 - Sunburst com os 20 primeiros games com: categoria, média de avaliação e se é pago ou gratuito"
   ]
  },
  {
   "attachments": {},
   "cell_type": "markdown",
   "id": "a11726cb",
   "metadata": {},
   "source": [
    "> Trata-se de um gráfico que exige uma interpretação mais avançada:\n",
    "- Cores: representam a quantidade, quanto mais próxima do amarelo, melhor a média de avaliação\n",
    "- A última parte da fatia representa se é pago ou não (True e False)\n",
    "- A parte do meio representa a categoria"
   ]
  },
  {
   "cell_type": "code",
   "execution_count": 17,
   "id": "dda5aba9",
   "metadata": {},
   "outputs": [
    {
     "data": {
      "text/plain": [
       "False    1723\n",
       "True        7\n",
       "Name: paid, dtype: int64"
      ]
     },
     "execution_count": 17,
     "metadata": {},
     "output_type": "execute_result"
    }
   ],
   "source": [
    "dados_copy['paid'].value_counts()"
   ]
  },
  {
   "cell_type": "code",
   "execution_count": 18,
   "id": "e5c2e7f0",
   "metadata": {},
   "outputs": [
    {
     "data": {
      "text/html": [
       "<div>\n",
       "<style scoped>\n",
       "    .dataframe tbody tr th:only-of-type {\n",
       "        vertical-align: middle;\n",
       "    }\n",
       "\n",
       "    .dataframe tbody tr th {\n",
       "        vertical-align: top;\n",
       "    }\n",
       "\n",
       "    .dataframe thead th {\n",
       "        text-align: right;\n",
       "    }\n",
       "</style>\n",
       "<table border=\"1\" class=\"dataframe\">\n",
       "  <thead>\n",
       "    <tr style=\"text-align: right;\">\n",
       "      <th></th>\n",
       "      <th>rank</th>\n",
       "      <th>title</th>\n",
       "      <th>total ratings</th>\n",
       "      <th>installs</th>\n",
       "      <th>average rating</th>\n",
       "      <th>growth (30 days)</th>\n",
       "      <th>growth (60 days)</th>\n",
       "      <th>price</th>\n",
       "      <th>category</th>\n",
       "      <th>5 star ratings</th>\n",
       "      <th>4 star ratings</th>\n",
       "      <th>3 star ratings</th>\n",
       "      <th>2 star ratings</th>\n",
       "      <th>1 star ratings</th>\n",
       "      <th>paid</th>\n",
       "      <th>Installs_num</th>\n",
       "    </tr>\n",
       "  </thead>\n",
       "  <tbody>\n",
       "    <tr>\n",
       "      <th>0</th>\n",
       "      <td>1</td>\n",
       "      <td>Garena Free Fire - The Cobra</td>\n",
       "      <td>80678661</td>\n",
       "      <td>500.0 M</td>\n",
       "      <td>4.33</td>\n",
       "      <td>2.9</td>\n",
       "      <td>7.9</td>\n",
       "      <td>0.0</td>\n",
       "      <td>GAME ACTION</td>\n",
       "      <td>61935712</td>\n",
       "      <td>4478738</td>\n",
       "      <td>2795172</td>\n",
       "      <td>1814999</td>\n",
       "      <td>9654037</td>\n",
       "      <td>False</td>\n",
       "      <td>500000000</td>\n",
       "    </tr>\n",
       "    <tr>\n",
       "      <th>1</th>\n",
       "      <td>2</td>\n",
       "      <td>PUBG MOBILE: Graffiti Prank</td>\n",
       "      <td>35971961</td>\n",
       "      <td>100.0 M</td>\n",
       "      <td>4.24</td>\n",
       "      <td>2.0</td>\n",
       "      <td>3.1</td>\n",
       "      <td>0.0</td>\n",
       "      <td>GAME ACTION</td>\n",
       "      <td>26670566</td>\n",
       "      <td>2109631</td>\n",
       "      <td>1352610</td>\n",
       "      <td>893674</td>\n",
       "      <td>4945478</td>\n",
       "      <td>False</td>\n",
       "      <td>100000000</td>\n",
       "    </tr>\n",
       "    <tr>\n",
       "      <th>2</th>\n",
       "      <td>3</td>\n",
       "      <td>Mobile Legends: Bang Bang</td>\n",
       "      <td>25836869</td>\n",
       "      <td>100.0 M</td>\n",
       "      <td>4.08</td>\n",
       "      <td>1.6</td>\n",
       "      <td>3.3</td>\n",
       "      <td>0.0</td>\n",
       "      <td>GAME ACTION</td>\n",
       "      <td>17850942</td>\n",
       "      <td>1796761</td>\n",
       "      <td>1066095</td>\n",
       "      <td>725429</td>\n",
       "      <td>4397640</td>\n",
       "      <td>False</td>\n",
       "      <td>100000000</td>\n",
       "    </tr>\n",
       "    <tr>\n",
       "      <th>3</th>\n",
       "      <td>4</td>\n",
       "      <td>Brawl Stars</td>\n",
       "      <td>17181659</td>\n",
       "      <td>100.0 M</td>\n",
       "      <td>4.27</td>\n",
       "      <td>4.1</td>\n",
       "      <td>6.6</td>\n",
       "      <td>0.0</td>\n",
       "      <td>GAME ACTION</td>\n",
       "      <td>12493668</td>\n",
       "      <td>1474319</td>\n",
       "      <td>741410</td>\n",
       "      <td>383478</td>\n",
       "      <td>2088781</td>\n",
       "      <td>False</td>\n",
       "      <td>100000000</td>\n",
       "    </tr>\n",
       "    <tr>\n",
       "      <th>4</th>\n",
       "      <td>5</td>\n",
       "      <td>Sniper 3D: Fun Free Online FPS Shooting Game</td>\n",
       "      <td>14237554</td>\n",
       "      <td>100.0 M</td>\n",
       "      <td>4.33</td>\n",
       "      <td>0.8</td>\n",
       "      <td>1.8</td>\n",
       "      <td>0.0</td>\n",
       "      <td>GAME ACTION</td>\n",
       "      <td>9657878</td>\n",
       "      <td>2124544</td>\n",
       "      <td>1034025</td>\n",
       "      <td>375159</td>\n",
       "      <td>1045945</td>\n",
       "      <td>False</td>\n",
       "      <td>100000000</td>\n",
       "    </tr>\n",
       "    <tr>\n",
       "      <th>5</th>\n",
       "      <td>6</td>\n",
       "      <td>Shadow Fight 2</td>\n",
       "      <td>14048931</td>\n",
       "      <td>100.0 M</td>\n",
       "      <td>4.57</td>\n",
       "      <td>0.6</td>\n",
       "      <td>1.5</td>\n",
       "      <td>0.0</td>\n",
       "      <td>GAME ACTION</td>\n",
       "      <td>11532143</td>\n",
       "      <td>961926</td>\n",
       "      <td>448184</td>\n",
       "      <td>217044</td>\n",
       "      <td>889631</td>\n",
       "      <td>False</td>\n",
       "      <td>100000000</td>\n",
       "    </tr>\n",
       "    <tr>\n",
       "      <th>6</th>\n",
       "      <td>7</td>\n",
       "      <td>Call of Duty®: Mobile - Day of Reckoning</td>\n",
       "      <td>13020115</td>\n",
       "      <td>100.0 M</td>\n",
       "      <td>4.47</td>\n",
       "      <td>2.8</td>\n",
       "      <td>5.1</td>\n",
       "      <td>0.0</td>\n",
       "      <td>GAME ACTION</td>\n",
       "      <td>10079925</td>\n",
       "      <td>1210326</td>\n",
       "      <td>488294</td>\n",
       "      <td>261610</td>\n",
       "      <td>979958</td>\n",
       "      <td>False</td>\n",
       "      <td>100000000</td>\n",
       "    </tr>\n",
       "    <tr>\n",
       "      <th>7</th>\n",
       "      <td>8</td>\n",
       "      <td>Among Us</td>\n",
       "      <td>11298789</td>\n",
       "      <td>100.0 M</td>\n",
       "      <td>3.65</td>\n",
       "      <td>6.3</td>\n",
       "      <td>12.3</td>\n",
       "      <td>0.0</td>\n",
       "      <td>GAME ACTION</td>\n",
       "      <td>6173970</td>\n",
       "      <td>1026476</td>\n",
       "      <td>770574</td>\n",
       "      <td>614021</td>\n",
       "      <td>2713745</td>\n",
       "      <td>False</td>\n",
       "      <td>100000000</td>\n",
       "    </tr>\n",
       "    <tr>\n",
       "      <th>8</th>\n",
       "      <td>9</td>\n",
       "      <td>Temple Run 2</td>\n",
       "      <td>9554877</td>\n",
       "      <td>500.0 M</td>\n",
       "      <td>4.21</td>\n",
       "      <td>0.3</td>\n",
       "      <td>0.6</td>\n",
       "      <td>0.0</td>\n",
       "      <td>GAME ACTION</td>\n",
       "      <td>6521348</td>\n",
       "      <td>996144</td>\n",
       "      <td>615544</td>\n",
       "      <td>343978</td>\n",
       "      <td>1077860</td>\n",
       "      <td>False</td>\n",
       "      <td>500000000</td>\n",
       "    </tr>\n",
       "    <tr>\n",
       "      <th>9</th>\n",
       "      <td>10</td>\n",
       "      <td>PUBG MOBILE LITE</td>\n",
       "      <td>7392911</td>\n",
       "      <td>100.0 M</td>\n",
       "      <td>4.16</td>\n",
       "      <td>1.3</td>\n",
       "      <td>2.9</td>\n",
       "      <td>0.0</td>\n",
       "      <td>GAME ACTION</td>\n",
       "      <td>5231571</td>\n",
       "      <td>494013</td>\n",
       "      <td>343880</td>\n",
       "      <td>232468</td>\n",
       "      <td>1090976</td>\n",
       "      <td>False</td>\n",
       "      <td>100000000</td>\n",
       "    </tr>\n",
       "    <tr>\n",
       "      <th>10</th>\n",
       "      <td>11</td>\n",
       "      <td>slither.io</td>\n",
       "      <td>6475640</td>\n",
       "      <td>100.0 M</td>\n",
       "      <td>4.07</td>\n",
       "      <td>0.4</td>\n",
       "      <td>1.0</td>\n",
       "      <td>0.0</td>\n",
       "      <td>GAME ACTION</td>\n",
       "      <td>4089508</td>\n",
       "      <td>765605</td>\n",
       "      <td>486813</td>\n",
       "      <td>250455</td>\n",
       "      <td>883255</td>\n",
       "      <td>False</td>\n",
       "      <td>100000000</td>\n",
       "    </tr>\n",
       "    <tr>\n",
       "      <th>11</th>\n",
       "      <td>12</td>\n",
       "      <td>Gangstar Vegas: World of Crime</td>\n",
       "      <td>6203689</td>\n",
       "      <td>100.0 M</td>\n",
       "      <td>4.30</td>\n",
       "      <td>0.5</td>\n",
       "      <td>1.1</td>\n",
       "      <td>0.0</td>\n",
       "      <td>GAME ACTION</td>\n",
       "      <td>4466149</td>\n",
       "      <td>597997</td>\n",
       "      <td>313912</td>\n",
       "      <td>165629</td>\n",
       "      <td>660000</td>\n",
       "      <td>False</td>\n",
       "      <td>100000000</td>\n",
       "    </tr>\n",
       "    <tr>\n",
       "      <th>12</th>\n",
       "      <td>13</td>\n",
       "      <td>Pixel Gun 3D: FPS Shooter &amp; Battle Royale</td>\n",
       "      <td>5651287</td>\n",
       "      <td>100.0 M</td>\n",
       "      <td>4.15</td>\n",
       "      <td>0.3</td>\n",
       "      <td>0.6</td>\n",
       "      <td>0.0</td>\n",
       "      <td>GAME ACTION</td>\n",
       "      <td>3855710</td>\n",
       "      <td>524170</td>\n",
       "      <td>321185</td>\n",
       "      <td>183340</td>\n",
       "      <td>766880</td>\n",
       "      <td>False</td>\n",
       "      <td>100000000</td>\n",
       "    </tr>\n",
       "    <tr>\n",
       "      <th>13</th>\n",
       "      <td>14</td>\n",
       "      <td>Bowmasters</td>\n",
       "      <td>5245027</td>\n",
       "      <td>100.0 M</td>\n",
       "      <td>4.55</td>\n",
       "      <td>2.3</td>\n",
       "      <td>4.5</td>\n",
       "      <td>0.0</td>\n",
       "      <td>GAME ACTION</td>\n",
       "      <td>4170692</td>\n",
       "      <td>464285</td>\n",
       "      <td>216008</td>\n",
       "      <td>93697</td>\n",
       "      <td>300341</td>\n",
       "      <td>False</td>\n",
       "      <td>100000000</td>\n",
       "    </tr>\n",
       "    <tr>\n",
       "      <th>14</th>\n",
       "      <td>15</td>\n",
       "      <td>Standoff 2</td>\n",
       "      <td>4457338</td>\n",
       "      <td>50.0 M</td>\n",
       "      <td>4.54</td>\n",
       "      <td>6.1</td>\n",
       "      <td>13.7</td>\n",
       "      <td>0.0</td>\n",
       "      <td>GAME ACTION</td>\n",
       "      <td>3611434</td>\n",
       "      <td>335328</td>\n",
       "      <td>123915</td>\n",
       "      <td>59903</td>\n",
       "      <td>326756</td>\n",
       "      <td>False</td>\n",
       "      <td>50000000</td>\n",
       "    </tr>\n",
       "    <tr>\n",
       "      <th>15</th>\n",
       "      <td>16</td>\n",
       "      <td>Crossy Road</td>\n",
       "      <td>4456347</td>\n",
       "      <td>100.0 M</td>\n",
       "      <td>4.54</td>\n",
       "      <td>0.1</td>\n",
       "      <td>0.2</td>\n",
       "      <td>0.0</td>\n",
       "      <td>GAME ACTION</td>\n",
       "      <td>3378135</td>\n",
       "      <td>575185</td>\n",
       "      <td>232942</td>\n",
       "      <td>67203</td>\n",
       "      <td>202879</td>\n",
       "      <td>False</td>\n",
       "      <td>100000000</td>\n",
       "    </tr>\n",
       "    <tr>\n",
       "      <th>16</th>\n",
       "      <td>17</td>\n",
       "      <td>Banana Kong</td>\n",
       "      <td>4448938</td>\n",
       "      <td>100.0 M</td>\n",
       "      <td>4.57</td>\n",
       "      <td>0.5</td>\n",
       "      <td>1.2</td>\n",
       "      <td>0.0</td>\n",
       "      <td>GAME ACTION</td>\n",
       "      <td>3440564</td>\n",
       "      <td>524996</td>\n",
       "      <td>227009</td>\n",
       "      <td>72803</td>\n",
       "      <td>183564</td>\n",
       "      <td>False</td>\n",
       "      <td>100000000</td>\n",
       "    </tr>\n",
       "    <tr>\n",
       "      <th>17</th>\n",
       "      <td>18</td>\n",
       "      <td>Garena Liên Quân Mobile</td>\n",
       "      <td>4443546</td>\n",
       "      <td>50.0 M</td>\n",
       "      <td>4.11</td>\n",
       "      <td>2.1</td>\n",
       "      <td>3.9</td>\n",
       "      <td>0.0</td>\n",
       "      <td>GAME ACTION</td>\n",
       "      <td>3055909</td>\n",
       "      <td>371966</td>\n",
       "      <td>198693</td>\n",
       "      <td>100809</td>\n",
       "      <td>716166</td>\n",
       "      <td>False</td>\n",
       "      <td>50000000</td>\n",
       "    </tr>\n",
       "    <tr>\n",
       "      <th>18</th>\n",
       "      <td>19</td>\n",
       "      <td>Helix Jump</td>\n",
       "      <td>4260419</td>\n",
       "      <td>100.0 M</td>\n",
       "      <td>4.07</td>\n",
       "      <td>0.0</td>\n",
       "      <td>0.2</td>\n",
       "      <td>0.0</td>\n",
       "      <td>GAME ACTION</td>\n",
       "      <td>2654404</td>\n",
       "      <td>542456</td>\n",
       "      <td>338551</td>\n",
       "      <td>178344</td>\n",
       "      <td>546662</td>\n",
       "      <td>False</td>\n",
       "      <td>100000000</td>\n",
       "    </tr>\n",
       "    <tr>\n",
       "      <th>19</th>\n",
       "      <td>20</td>\n",
       "      <td>War Robots. 6v6 Tactical Multiplayer Battles</td>\n",
       "      <td>4193941</td>\n",
       "      <td>50.0 M</td>\n",
       "      <td>4.00</td>\n",
       "      <td>0.3</td>\n",
       "      <td>0.7</td>\n",
       "      <td>0.0</td>\n",
       "      <td>GAME ACTION</td>\n",
       "      <td>2635805</td>\n",
       "      <td>449195</td>\n",
       "      <td>262329</td>\n",
       "      <td>160045</td>\n",
       "      <td>686564</td>\n",
       "      <td>False</td>\n",
       "      <td>50000000</td>\n",
       "    </tr>\n",
       "  </tbody>\n",
       "</table>\n",
       "</div>"
      ],
      "text/plain": [
       "    rank                                         title  total ratings  \\\n",
       "0      1                  Garena Free Fire - The Cobra       80678661   \n",
       "1      2                   PUBG MOBILE: Graffiti Prank       35971961   \n",
       "2      3                     Mobile Legends: Bang Bang       25836869   \n",
       "3      4                                   Brawl Stars       17181659   \n",
       "4      5  Sniper 3D: Fun Free Online FPS Shooting Game       14237554   \n",
       "5      6                                Shadow Fight 2       14048931   \n",
       "6      7      Call of Duty®: Mobile - Day of Reckoning       13020115   \n",
       "7      8                                      Among Us       11298789   \n",
       "8      9                                  Temple Run 2        9554877   \n",
       "9     10                              PUBG MOBILE LITE        7392911   \n",
       "10    11                                    slither.io        6475640   \n",
       "11    12                Gangstar Vegas: World of Crime        6203689   \n",
       "12    13     Pixel Gun 3D: FPS Shooter & Battle Royale        5651287   \n",
       "13    14                                    Bowmasters        5245027   \n",
       "14    15                                    Standoff 2        4457338   \n",
       "15    16                                   Crossy Road        4456347   \n",
       "16    17                                   Banana Kong        4448938   \n",
       "17    18                       Garena Liên Quân Mobile        4443546   \n",
       "18    19                                    Helix Jump        4260419   \n",
       "19    20  War Robots. 6v6 Tactical Multiplayer Battles        4193941   \n",
       "\n",
       "   installs  average rating  growth (30 days)  growth (60 days)  price  \\\n",
       "0   500.0 M            4.33               2.9               7.9    0.0   \n",
       "1   100.0 M            4.24               2.0               3.1    0.0   \n",
       "2   100.0 M            4.08               1.6               3.3    0.0   \n",
       "3   100.0 M            4.27               4.1               6.6    0.0   \n",
       "4   100.0 M            4.33               0.8               1.8    0.0   \n",
       "5   100.0 M            4.57               0.6               1.5    0.0   \n",
       "6   100.0 M            4.47               2.8               5.1    0.0   \n",
       "7   100.0 M            3.65               6.3              12.3    0.0   \n",
       "8   500.0 M            4.21               0.3               0.6    0.0   \n",
       "9   100.0 M            4.16               1.3               2.9    0.0   \n",
       "10  100.0 M            4.07               0.4               1.0    0.0   \n",
       "11  100.0 M            4.30               0.5               1.1    0.0   \n",
       "12  100.0 M            4.15               0.3               0.6    0.0   \n",
       "13  100.0 M            4.55               2.3               4.5    0.0   \n",
       "14   50.0 M            4.54               6.1              13.7    0.0   \n",
       "15  100.0 M            4.54               0.1               0.2    0.0   \n",
       "16  100.0 M            4.57               0.5               1.2    0.0   \n",
       "17   50.0 M            4.11               2.1               3.9    0.0   \n",
       "18  100.0 M            4.07               0.0               0.2    0.0   \n",
       "19   50.0 M            4.00               0.3               0.7    0.0   \n",
       "\n",
       "       category  5 star ratings  4 star ratings  3 star ratings  \\\n",
       "0   GAME ACTION        61935712         4478738         2795172   \n",
       "1   GAME ACTION        26670566         2109631         1352610   \n",
       "2   GAME ACTION        17850942         1796761         1066095   \n",
       "3   GAME ACTION        12493668         1474319          741410   \n",
       "4   GAME ACTION         9657878         2124544         1034025   \n",
       "5   GAME ACTION        11532143          961926          448184   \n",
       "6   GAME ACTION        10079925         1210326          488294   \n",
       "7   GAME ACTION         6173970         1026476          770574   \n",
       "8   GAME ACTION         6521348          996144          615544   \n",
       "9   GAME ACTION         5231571          494013          343880   \n",
       "10  GAME ACTION         4089508          765605          486813   \n",
       "11  GAME ACTION         4466149          597997          313912   \n",
       "12  GAME ACTION         3855710          524170          321185   \n",
       "13  GAME ACTION         4170692          464285          216008   \n",
       "14  GAME ACTION         3611434          335328          123915   \n",
       "15  GAME ACTION         3378135          575185          232942   \n",
       "16  GAME ACTION         3440564          524996          227009   \n",
       "17  GAME ACTION         3055909          371966          198693   \n",
       "18  GAME ACTION         2654404          542456          338551   \n",
       "19  GAME ACTION         2635805          449195          262329   \n",
       "\n",
       "    2 star ratings  1 star ratings   paid  Installs_num  \n",
       "0          1814999         9654037  False     500000000  \n",
       "1           893674         4945478  False     100000000  \n",
       "2           725429         4397640  False     100000000  \n",
       "3           383478         2088781  False     100000000  \n",
       "4           375159         1045945  False     100000000  \n",
       "5           217044          889631  False     100000000  \n",
       "6           261610          979958  False     100000000  \n",
       "7           614021         2713745  False     100000000  \n",
       "8           343978         1077860  False     500000000  \n",
       "9           232468         1090976  False     100000000  \n",
       "10          250455          883255  False     100000000  \n",
       "11          165629          660000  False     100000000  \n",
       "12          183340          766880  False     100000000  \n",
       "13           93697          300341  False     100000000  \n",
       "14           59903          326756  False      50000000  \n",
       "15           67203          202879  False     100000000  \n",
       "16           72803          183564  False     100000000  \n",
       "17          100809          716166  False      50000000  \n",
       "18          178344          546662  False     100000000  \n",
       "19          160045          686564  False      50000000  "
      ]
     },
     "execution_count": 18,
     "metadata": {},
     "output_type": "execute_result"
    }
   ],
   "source": [
    "dados_copy.head(20)"
   ]
  },
  {
   "cell_type": "code",
   "execution_count": 19,
   "id": "turned-sight",
   "metadata": {
    "execution": {
     "iopub.execute_input": "2021-04-22T23:03:49.062890Z",
     "iopub.status.busy": "2021-04-22T23:03:49.062236Z",
     "iopub.status.idle": "2021-04-22T23:03:51.843335Z",
     "shell.execute_reply": "2021-04-22T23:03:51.843712Z"
    },
    "papermill": {
     "duration": 2.799006,
     "end_time": "2021-04-22T23:03:51.843841",
     "exception": false,
     "start_time": "2021-04-22T23:03:49.044835",
     "status": "completed"
    },
    "tags": []
   },
   "outputs": [
    {
     "data": {
      "application/vnd.plotly.v1+json": {
       "config": {
        "plotlyServerURL": "https://plot.ly"
       },
       "data": [
        {
         "branchvalues": "total",
         "customdata": [
          [
           3.65
          ],
          [
           4.57
          ],
          [
           4.55
          ],
          [
           4.27
          ],
          [
           4.47
          ],
          [
           4.54
          ],
          [
           4.3
          ],
          [
           4.33
          ],
          [
           4.11
          ],
          [
           4.07
          ],
          [
           4.08
          ],
          [
           4.16
          ],
          [
           4.24
          ],
          [
           4.15
          ],
          [
           4.57
          ],
          [
           4.33
          ],
          [
           4.54
          ],
          [
           4.21
          ],
          [
           4
          ],
          [
           4.07
          ],
          [
           3.65
          ],
          [
           4.57
          ],
          [
           4.55
          ],
          [
           4.27
          ],
          [
           4.47
          ],
          [
           4.54
          ],
          [
           4.3
          ],
          [
           4.33
          ],
          [
           4.11
          ],
          [
           4.07
          ],
          [
           4.08
          ],
          [
           4.16
          ],
          [
           4.24
          ],
          [
           4.15
          ],
          [
           4.57
          ],
          [
           4.33
          ],
          [
           4.54
          ],
          [
           4.21
          ],
          [
           4
          ],
          [
           4.07
          ],
          [
           3.65
          ],
          [
           4.57
          ],
          [
           4.55
          ],
          [
           4.27
          ],
          [
           4.47
          ],
          [
           4.54
          ],
          [
           4.3
          ],
          [
           4.33
          ],
          [
           4.11
          ],
          [
           4.07
          ],
          [
           4.08
          ],
          [
           4.16
          ],
          [
           4.24
          ],
          [
           4.15
          ],
          [
           4.57
          ],
          [
           4.33
          ],
          [
           4.54
          ],
          [
           4.21
          ],
          [
           4
          ],
          [
           4.07
          ]
         ],
         "domain": {
          "x": [
           0,
           1
          ],
          "y": [
           0,
           1
          ]
         },
         "hovertemplate": "labels=%{label}<br>average rating_sum=%{value}<br>parent=%{parent}<br>id=%{id}<br>average rating=%{color}<extra></extra>",
         "ids": [
          "Among Us/GAME ACTION/False",
          "Banana Kong/GAME ACTION/False",
          "Bowmasters/GAME ACTION/False",
          "Brawl Stars/GAME ACTION/False",
          "Call of Duty®: Mobile - Day of Reckoning/GAME ACTION/False",
          "Crossy Road/GAME ACTION/False",
          "Gangstar Vegas: World of Crime/GAME ACTION/False",
          "Garena Free Fire - The Cobra/GAME ACTION/False",
          "Garena Liên Quân Mobile/GAME ACTION/False",
          "Helix Jump/GAME ACTION/False",
          "Mobile Legends: Bang Bang/GAME ACTION/False",
          "PUBG MOBILE LITE/GAME ACTION/False",
          "PUBG MOBILE: Graffiti Prank/GAME ACTION/False",
          "Pixel Gun 3D: FPS Shooter & Battle Royale/GAME ACTION/False",
          "Shadow Fight 2/GAME ACTION/False",
          "Sniper 3D: Fun Free Online FPS Shooting Game/GAME ACTION/False",
          "Standoff 2/GAME ACTION/False",
          "Temple Run 2/GAME ACTION/False",
          "War Robots. 6v6 Tactical Multiplayer Battles/GAME ACTION/False",
          "slither.io/GAME ACTION/False",
          "Among Us/GAME ACTION",
          "Banana Kong/GAME ACTION",
          "Bowmasters/GAME ACTION",
          "Brawl Stars/GAME ACTION",
          "Call of Duty®: Mobile - Day of Reckoning/GAME ACTION",
          "Crossy Road/GAME ACTION",
          "Gangstar Vegas: World of Crime/GAME ACTION",
          "Garena Free Fire - The Cobra/GAME ACTION",
          "Garena Liên Quân Mobile/GAME ACTION",
          "Helix Jump/GAME ACTION",
          "Mobile Legends: Bang Bang/GAME ACTION",
          "PUBG MOBILE LITE/GAME ACTION",
          "PUBG MOBILE: Graffiti Prank/GAME ACTION",
          "Pixel Gun 3D: FPS Shooter & Battle Royale/GAME ACTION",
          "Shadow Fight 2/GAME ACTION",
          "Sniper 3D: Fun Free Online FPS Shooting Game/GAME ACTION",
          "Standoff 2/GAME ACTION",
          "Temple Run 2/GAME ACTION",
          "War Robots. 6v6 Tactical Multiplayer Battles/GAME ACTION",
          "slither.io/GAME ACTION",
          "Among Us",
          "Banana Kong",
          "Bowmasters",
          "Brawl Stars",
          "Call of Duty®: Mobile - Day of Reckoning",
          "Crossy Road",
          "Gangstar Vegas: World of Crime",
          "Garena Free Fire - The Cobra",
          "Garena Liên Quân Mobile",
          "Helix Jump",
          "Mobile Legends: Bang Bang",
          "PUBG MOBILE LITE",
          "PUBG MOBILE: Graffiti Prank",
          "Pixel Gun 3D: FPS Shooter & Battle Royale",
          "Shadow Fight 2",
          "Sniper 3D: Fun Free Online FPS Shooting Game",
          "Standoff 2",
          "Temple Run 2",
          "War Robots. 6v6 Tactical Multiplayer Battles",
          "slither.io"
         ],
         "labels": [
          "False",
          "False",
          "False",
          "False",
          "False",
          "False",
          "False",
          "False",
          "False",
          "False",
          "False",
          "False",
          "False",
          "False",
          "False",
          "False",
          "False",
          "False",
          "False",
          "False",
          "GAME ACTION",
          "GAME ACTION",
          "GAME ACTION",
          "GAME ACTION",
          "GAME ACTION",
          "GAME ACTION",
          "GAME ACTION",
          "GAME ACTION",
          "GAME ACTION",
          "GAME ACTION",
          "GAME ACTION",
          "GAME ACTION",
          "GAME ACTION",
          "GAME ACTION",
          "GAME ACTION",
          "GAME ACTION",
          "GAME ACTION",
          "GAME ACTION",
          "GAME ACTION",
          "GAME ACTION",
          "Among Us",
          "Banana Kong",
          "Bowmasters",
          "Brawl Stars",
          "Call of Duty®: Mobile - Day of Reckoning",
          "Crossy Road",
          "Gangstar Vegas: World of Crime",
          "Garena Free Fire - The Cobra",
          "Garena Liên Quân Mobile",
          "Helix Jump",
          "Mobile Legends: Bang Bang",
          "PUBG MOBILE LITE",
          "PUBG MOBILE: Graffiti Prank",
          "Pixel Gun 3D: FPS Shooter & Battle Royale",
          "Shadow Fight 2",
          "Sniper 3D: Fun Free Online FPS Shooting Game",
          "Standoff 2",
          "Temple Run 2",
          "War Robots. 6v6 Tactical Multiplayer Battles",
          "slither.io"
         ],
         "marker": {
          "coloraxis": "coloraxis",
          "colors": [
           3.65,
           4.57,
           4.55,
           4.27,
           4.47,
           4.54,
           4.3,
           4.33,
           4.11,
           4.07,
           4.08,
           4.16,
           4.24,
           4.15,
           4.57,
           4.33,
           4.54,
           4.21,
           4,
           4.07,
           3.65,
           4.57,
           4.55,
           4.27,
           4.47,
           4.54,
           4.3,
           4.33,
           4.11,
           4.07,
           4.08,
           4.16,
           4.24,
           4.15,
           4.57,
           4.33,
           4.54,
           4.21,
           4,
           4.07,
           3.65,
           4.57,
           4.55,
           4.27,
           4.47,
           4.54,
           4.3,
           4.33,
           4.11,
           4.07,
           4.08,
           4.16,
           4.24,
           4.15,
           4.57,
           4.33,
           4.54,
           4.21,
           4,
           4.07
          ]
         },
         "name": "",
         "parents": [
          "Among Us/GAME ACTION",
          "Banana Kong/GAME ACTION",
          "Bowmasters/GAME ACTION",
          "Brawl Stars/GAME ACTION",
          "Call of Duty®: Mobile - Day of Reckoning/GAME ACTION",
          "Crossy Road/GAME ACTION",
          "Gangstar Vegas: World of Crime/GAME ACTION",
          "Garena Free Fire - The Cobra/GAME ACTION",
          "Garena Liên Quân Mobile/GAME ACTION",
          "Helix Jump/GAME ACTION",
          "Mobile Legends: Bang Bang/GAME ACTION",
          "PUBG MOBILE LITE/GAME ACTION",
          "PUBG MOBILE: Graffiti Prank/GAME ACTION",
          "Pixel Gun 3D: FPS Shooter & Battle Royale/GAME ACTION",
          "Shadow Fight 2/GAME ACTION",
          "Sniper 3D: Fun Free Online FPS Shooting Game/GAME ACTION",
          "Standoff 2/GAME ACTION",
          "Temple Run 2/GAME ACTION",
          "War Robots. 6v6 Tactical Multiplayer Battles/GAME ACTION",
          "slither.io/GAME ACTION",
          "Among Us",
          "Banana Kong",
          "Bowmasters",
          "Brawl Stars",
          "Call of Duty®: Mobile - Day of Reckoning",
          "Crossy Road",
          "Gangstar Vegas: World of Crime",
          "Garena Free Fire - The Cobra",
          "Garena Liên Quân Mobile",
          "Helix Jump",
          "Mobile Legends: Bang Bang",
          "PUBG MOBILE LITE",
          "PUBG MOBILE: Graffiti Prank",
          "Pixel Gun 3D: FPS Shooter & Battle Royale",
          "Shadow Fight 2",
          "Sniper 3D: Fun Free Online FPS Shooting Game",
          "Standoff 2",
          "Temple Run 2",
          "War Robots. 6v6 Tactical Multiplayer Battles",
          "slither.io",
          "",
          "",
          "",
          "",
          "",
          "",
          "",
          "",
          "",
          "",
          "",
          "",
          "",
          "",
          "",
          "",
          "",
          "",
          "",
          ""
         ],
         "type": "sunburst",
         "values": [
          3.65,
          4.57,
          4.55,
          4.27,
          4.47,
          4.54,
          4.3,
          4.33,
          4.11,
          4.07,
          4.08,
          4.16,
          4.24,
          4.15,
          4.57,
          4.33,
          4.54,
          4.21,
          4,
          4.07,
          3.65,
          4.57,
          4.55,
          4.27,
          4.47,
          4.54,
          4.3,
          4.33,
          4.11,
          4.07,
          4.08,
          4.16,
          4.24,
          4.15,
          4.57,
          4.33,
          4.54,
          4.21,
          4,
          4.07,
          3.65,
          4.57,
          4.55,
          4.27,
          4.47,
          4.54,
          4.3,
          4.33,
          4.11,
          4.07,
          4.08,
          4.16,
          4.24,
          4.15,
          4.57,
          4.33,
          4.54,
          4.21,
          4,
          4.07
         ]
        }
       ],
       "layout": {
        "coloraxis": {
         "colorbar": {
          "title": {
           "text": "average rating"
          }
         },
         "colorscale": [
          [
           0,
           "#0d0887"
          ],
          [
           0.1111111111111111,
           "#46039f"
          ],
          [
           0.2222222222222222,
           "#7201a8"
          ],
          [
           0.3333333333333333,
           "#9c179e"
          ],
          [
           0.4444444444444444,
           "#bd3786"
          ],
          [
           0.5555555555555556,
           "#d8576b"
          ],
          [
           0.6666666666666666,
           "#ed7953"
          ],
          [
           0.7777777777777778,
           "#fb9f3a"
          ],
          [
           0.8888888888888888,
           "#fdca26"
          ],
          [
           1,
           "#f0f921"
          ]
         ]
        },
        "legend": {
         "tracegroupgap": 0
        },
        "margin": {
         "t": 60
        },
        "template": {
         "data": {
          "bar": [
           {
            "error_x": {
             "color": "#2a3f5f"
            },
            "error_y": {
             "color": "#2a3f5f"
            },
            "marker": {
             "line": {
              "color": "#E5ECF6",
              "width": 0.5
             },
             "pattern": {
              "fillmode": "overlay",
              "size": 10,
              "solidity": 0.2
             }
            },
            "type": "bar"
           }
          ],
          "barpolar": [
           {
            "marker": {
             "line": {
              "color": "#E5ECF6",
              "width": 0.5
             },
             "pattern": {
              "fillmode": "overlay",
              "size": 10,
              "solidity": 0.2
             }
            },
            "type": "barpolar"
           }
          ],
          "carpet": [
           {
            "aaxis": {
             "endlinecolor": "#2a3f5f",
             "gridcolor": "white",
             "linecolor": "white",
             "minorgridcolor": "white",
             "startlinecolor": "#2a3f5f"
            },
            "baxis": {
             "endlinecolor": "#2a3f5f",
             "gridcolor": "white",
             "linecolor": "white",
             "minorgridcolor": "white",
             "startlinecolor": "#2a3f5f"
            },
            "type": "carpet"
           }
          ],
          "choropleth": [
           {
            "colorbar": {
             "outlinewidth": 0,
             "ticks": ""
            },
            "type": "choropleth"
           }
          ],
          "contour": [
           {
            "colorbar": {
             "outlinewidth": 0,
             "ticks": ""
            },
            "colorscale": [
             [
              0,
              "#0d0887"
             ],
             [
              0.1111111111111111,
              "#46039f"
             ],
             [
              0.2222222222222222,
              "#7201a8"
             ],
             [
              0.3333333333333333,
              "#9c179e"
             ],
             [
              0.4444444444444444,
              "#bd3786"
             ],
             [
              0.5555555555555556,
              "#d8576b"
             ],
             [
              0.6666666666666666,
              "#ed7953"
             ],
             [
              0.7777777777777778,
              "#fb9f3a"
             ],
             [
              0.8888888888888888,
              "#fdca26"
             ],
             [
              1,
              "#f0f921"
             ]
            ],
            "type": "contour"
           }
          ],
          "contourcarpet": [
           {
            "colorbar": {
             "outlinewidth": 0,
             "ticks": ""
            },
            "type": "contourcarpet"
           }
          ],
          "heatmap": [
           {
            "colorbar": {
             "outlinewidth": 0,
             "ticks": ""
            },
            "colorscale": [
             [
              0,
              "#0d0887"
             ],
             [
              0.1111111111111111,
              "#46039f"
             ],
             [
              0.2222222222222222,
              "#7201a8"
             ],
             [
              0.3333333333333333,
              "#9c179e"
             ],
             [
              0.4444444444444444,
              "#bd3786"
             ],
             [
              0.5555555555555556,
              "#d8576b"
             ],
             [
              0.6666666666666666,
              "#ed7953"
             ],
             [
              0.7777777777777778,
              "#fb9f3a"
             ],
             [
              0.8888888888888888,
              "#fdca26"
             ],
             [
              1,
              "#f0f921"
             ]
            ],
            "type": "heatmap"
           }
          ],
          "heatmapgl": [
           {
            "colorbar": {
             "outlinewidth": 0,
             "ticks": ""
            },
            "colorscale": [
             [
              0,
              "#0d0887"
             ],
             [
              0.1111111111111111,
              "#46039f"
             ],
             [
              0.2222222222222222,
              "#7201a8"
             ],
             [
              0.3333333333333333,
              "#9c179e"
             ],
             [
              0.4444444444444444,
              "#bd3786"
             ],
             [
              0.5555555555555556,
              "#d8576b"
             ],
             [
              0.6666666666666666,
              "#ed7953"
             ],
             [
              0.7777777777777778,
              "#fb9f3a"
             ],
             [
              0.8888888888888888,
              "#fdca26"
             ],
             [
              1,
              "#f0f921"
             ]
            ],
            "type": "heatmapgl"
           }
          ],
          "histogram": [
           {
            "marker": {
             "pattern": {
              "fillmode": "overlay",
              "size": 10,
              "solidity": 0.2
             }
            },
            "type": "histogram"
           }
          ],
          "histogram2d": [
           {
            "colorbar": {
             "outlinewidth": 0,
             "ticks": ""
            },
            "colorscale": [
             [
              0,
              "#0d0887"
             ],
             [
              0.1111111111111111,
              "#46039f"
             ],
             [
              0.2222222222222222,
              "#7201a8"
             ],
             [
              0.3333333333333333,
              "#9c179e"
             ],
             [
              0.4444444444444444,
              "#bd3786"
             ],
             [
              0.5555555555555556,
              "#d8576b"
             ],
             [
              0.6666666666666666,
              "#ed7953"
             ],
             [
              0.7777777777777778,
              "#fb9f3a"
             ],
             [
              0.8888888888888888,
              "#fdca26"
             ],
             [
              1,
              "#f0f921"
             ]
            ],
            "type": "histogram2d"
           }
          ],
          "histogram2dcontour": [
           {
            "colorbar": {
             "outlinewidth": 0,
             "ticks": ""
            },
            "colorscale": [
             [
              0,
              "#0d0887"
             ],
             [
              0.1111111111111111,
              "#46039f"
             ],
             [
              0.2222222222222222,
              "#7201a8"
             ],
             [
              0.3333333333333333,
              "#9c179e"
             ],
             [
              0.4444444444444444,
              "#bd3786"
             ],
             [
              0.5555555555555556,
              "#d8576b"
             ],
             [
              0.6666666666666666,
              "#ed7953"
             ],
             [
              0.7777777777777778,
              "#fb9f3a"
             ],
             [
              0.8888888888888888,
              "#fdca26"
             ],
             [
              1,
              "#f0f921"
             ]
            ],
            "type": "histogram2dcontour"
           }
          ],
          "mesh3d": [
           {
            "colorbar": {
             "outlinewidth": 0,
             "ticks": ""
            },
            "type": "mesh3d"
           }
          ],
          "parcoords": [
           {
            "line": {
             "colorbar": {
              "outlinewidth": 0,
              "ticks": ""
             }
            },
            "type": "parcoords"
           }
          ],
          "pie": [
           {
            "automargin": true,
            "type": "pie"
           }
          ],
          "scatter": [
           {
            "fillpattern": {
             "fillmode": "overlay",
             "size": 10,
             "solidity": 0.2
            },
            "type": "scatter"
           }
          ],
          "scatter3d": [
           {
            "line": {
             "colorbar": {
              "outlinewidth": 0,
              "ticks": ""
             }
            },
            "marker": {
             "colorbar": {
              "outlinewidth": 0,
              "ticks": ""
             }
            },
            "type": "scatter3d"
           }
          ],
          "scattercarpet": [
           {
            "marker": {
             "colorbar": {
              "outlinewidth": 0,
              "ticks": ""
             }
            },
            "type": "scattercarpet"
           }
          ],
          "scattergeo": [
           {
            "marker": {
             "colorbar": {
              "outlinewidth": 0,
              "ticks": ""
             }
            },
            "type": "scattergeo"
           }
          ],
          "scattergl": [
           {
            "marker": {
             "colorbar": {
              "outlinewidth": 0,
              "ticks": ""
             }
            },
            "type": "scattergl"
           }
          ],
          "scattermapbox": [
           {
            "marker": {
             "colorbar": {
              "outlinewidth": 0,
              "ticks": ""
             }
            },
            "type": "scattermapbox"
           }
          ],
          "scatterpolar": [
           {
            "marker": {
             "colorbar": {
              "outlinewidth": 0,
              "ticks": ""
             }
            },
            "type": "scatterpolar"
           }
          ],
          "scatterpolargl": [
           {
            "marker": {
             "colorbar": {
              "outlinewidth": 0,
              "ticks": ""
             }
            },
            "type": "scatterpolargl"
           }
          ],
          "scatterternary": [
           {
            "marker": {
             "colorbar": {
              "outlinewidth": 0,
              "ticks": ""
             }
            },
            "type": "scatterternary"
           }
          ],
          "surface": [
           {
            "colorbar": {
             "outlinewidth": 0,
             "ticks": ""
            },
            "colorscale": [
             [
              0,
              "#0d0887"
             ],
             [
              0.1111111111111111,
              "#46039f"
             ],
             [
              0.2222222222222222,
              "#7201a8"
             ],
             [
              0.3333333333333333,
              "#9c179e"
             ],
             [
              0.4444444444444444,
              "#bd3786"
             ],
             [
              0.5555555555555556,
              "#d8576b"
             ],
             [
              0.6666666666666666,
              "#ed7953"
             ],
             [
              0.7777777777777778,
              "#fb9f3a"
             ],
             [
              0.8888888888888888,
              "#fdca26"
             ],
             [
              1,
              "#f0f921"
             ]
            ],
            "type": "surface"
           }
          ],
          "table": [
           {
            "cells": {
             "fill": {
              "color": "#EBF0F8"
             },
             "line": {
              "color": "white"
             }
            },
            "header": {
             "fill": {
              "color": "#C8D4E3"
             },
             "line": {
              "color": "white"
             }
            },
            "type": "table"
           }
          ]
         },
         "layout": {
          "annotationdefaults": {
           "arrowcolor": "#2a3f5f",
           "arrowhead": 0,
           "arrowwidth": 1
          },
          "autotypenumbers": "strict",
          "coloraxis": {
           "colorbar": {
            "outlinewidth": 0,
            "ticks": ""
           }
          },
          "colorscale": {
           "diverging": [
            [
             0,
             "#8e0152"
            ],
            [
             0.1,
             "#c51b7d"
            ],
            [
             0.2,
             "#de77ae"
            ],
            [
             0.3,
             "#f1b6da"
            ],
            [
             0.4,
             "#fde0ef"
            ],
            [
             0.5,
             "#f7f7f7"
            ],
            [
             0.6,
             "#e6f5d0"
            ],
            [
             0.7,
             "#b8e186"
            ],
            [
             0.8,
             "#7fbc41"
            ],
            [
             0.9,
             "#4d9221"
            ],
            [
             1,
             "#276419"
            ]
           ],
           "sequential": [
            [
             0,
             "#0d0887"
            ],
            [
             0.1111111111111111,
             "#46039f"
            ],
            [
             0.2222222222222222,
             "#7201a8"
            ],
            [
             0.3333333333333333,
             "#9c179e"
            ],
            [
             0.4444444444444444,
             "#bd3786"
            ],
            [
             0.5555555555555556,
             "#d8576b"
            ],
            [
             0.6666666666666666,
             "#ed7953"
            ],
            [
             0.7777777777777778,
             "#fb9f3a"
            ],
            [
             0.8888888888888888,
             "#fdca26"
            ],
            [
             1,
             "#f0f921"
            ]
           ],
           "sequentialminus": [
            [
             0,
             "#0d0887"
            ],
            [
             0.1111111111111111,
             "#46039f"
            ],
            [
             0.2222222222222222,
             "#7201a8"
            ],
            [
             0.3333333333333333,
             "#9c179e"
            ],
            [
             0.4444444444444444,
             "#bd3786"
            ],
            [
             0.5555555555555556,
             "#d8576b"
            ],
            [
             0.6666666666666666,
             "#ed7953"
            ],
            [
             0.7777777777777778,
             "#fb9f3a"
            ],
            [
             0.8888888888888888,
             "#fdca26"
            ],
            [
             1,
             "#f0f921"
            ]
           ]
          },
          "colorway": [
           "#636efa",
           "#EF553B",
           "#00cc96",
           "#ab63fa",
           "#FFA15A",
           "#19d3f3",
           "#FF6692",
           "#B6E880",
           "#FF97FF",
           "#FECB52"
          ],
          "font": {
           "color": "#2a3f5f"
          },
          "geo": {
           "bgcolor": "white",
           "lakecolor": "white",
           "landcolor": "#E5ECF6",
           "showlakes": true,
           "showland": true,
           "subunitcolor": "white"
          },
          "hoverlabel": {
           "align": "left"
          },
          "hovermode": "closest",
          "mapbox": {
           "style": "light"
          },
          "paper_bgcolor": "white",
          "plot_bgcolor": "#E5ECF6",
          "polar": {
           "angularaxis": {
            "gridcolor": "white",
            "linecolor": "white",
            "ticks": ""
           },
           "bgcolor": "#E5ECF6",
           "radialaxis": {
            "gridcolor": "white",
            "linecolor": "white",
            "ticks": ""
           }
          },
          "scene": {
           "xaxis": {
            "backgroundcolor": "#E5ECF6",
            "gridcolor": "white",
            "gridwidth": 2,
            "linecolor": "white",
            "showbackground": true,
            "ticks": "",
            "zerolinecolor": "white"
           },
           "yaxis": {
            "backgroundcolor": "#E5ECF6",
            "gridcolor": "white",
            "gridwidth": 2,
            "linecolor": "white",
            "showbackground": true,
            "ticks": "",
            "zerolinecolor": "white"
           },
           "zaxis": {
            "backgroundcolor": "#E5ECF6",
            "gridcolor": "white",
            "gridwidth": 2,
            "linecolor": "white",
            "showbackground": true,
            "ticks": "",
            "zerolinecolor": "white"
           }
          },
          "shapedefaults": {
           "line": {
            "color": "#2a3f5f"
           }
          },
          "ternary": {
           "aaxis": {
            "gridcolor": "white",
            "linecolor": "white",
            "ticks": ""
           },
           "baxis": {
            "gridcolor": "white",
            "linecolor": "white",
            "ticks": ""
           },
           "bgcolor": "#E5ECF6",
           "caxis": {
            "gridcolor": "white",
            "linecolor": "white",
            "ticks": ""
           }
          },
          "title": {
           "x": 0.05
          },
          "xaxis": {
           "automargin": true,
           "gridcolor": "white",
           "linecolor": "white",
           "ticks": "",
           "title": {
            "standoff": 15
           },
           "zerolinecolor": "white",
           "zerolinewidth": 2
          },
          "yaxis": {
           "automargin": true,
           "gridcolor": "white",
           "linecolor": "white",
           "ticks": "",
           "title": {
            "standoff": 15
           },
           "zerolinecolor": "white",
           "zerolinewidth": 2
          }
         }
        }
       }
      }
     },
     "metadata": {},
     "output_type": "display_data"
    }
   ],
   "source": [
    "# Dataviz 29\n",
    "px.sunburst(dados_copy.head(20), \n",
    "            path = ['title', 'category', 'paid'], \n",
    "            values = 'average rating', \n",
    "            color = 'average rating')"
   ]
  },
  {
   "attachments": {},
   "cell_type": "markdown",
   "id": "f9730c34",
   "metadata": {},
   "source": [
    "# Fim"
   ]
  }
 ],
 "metadata": {
  "kernelspec": {
   "display_name": "Python 3 (ipykernel)",
   "language": "python",
   "name": "python3"
  },
  "language_info": {
   "codemirror_mode": {
    "name": "ipython",
    "version": 3
   },
   "file_extension": ".py",
   "mimetype": "text/x-python",
   "name": "python",
   "nbconvert_exporter": "python",
   "pygments_lexer": "ipython3",
   "version": "3.9.13"
  },
  "papermill": {
   "default_parameters": {},
   "duration": 15.89122,
   "end_time": "2021-04-22T23:03:53.380495",
   "environment_variables": {},
   "exception": null,
   "input_path": "__notebook__.ipynb",
   "output_path": "__notebook__.ipynb",
   "parameters": {},
   "start_time": "2021-04-22T23:03:37.489275",
   "version": "2.3.3"
  }
 },
 "nbformat": 4,
 "nbformat_minor": 5
}
